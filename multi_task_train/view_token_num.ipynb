{
 "cells": [
  {
   "cell_type": "code",
   "execution_count": null,
   "metadata": {},
   "outputs": [],
   "source": [
    "import csv\n",
    "from tqdm import tqdm\n",
    "from transformers import AutoTokenizer\n",
    "max_input_output_length = -1\n",
    "max_input_length=-1\n",
    "max_output_length=-1\n",
    "output_length_list = [0 for i in range(512)]\n",
    "max_output_text = \"\"\n",
    "CAPTION_SRC_TEXT = \"What does the image describe ?\"\n",
    "\n",
    "\n",
    "src_tokenizer = AutoTokenizer.from_pretrained(\"google/flan-t5-large\", model_max_length=512, use_fast=True)\n"
   ]
  },
  {
   "cell_type": "code",
   "execution_count": null,
   "metadata": {},
   "outputs": [],
   "source": [
    "path = '/home/omote/gpu-node-data01/cc12m/img_train.tsv'\n",
    "with open(path, encoding='utf-8', newline='') as f:\n",
    "    loop = tqdm(csv.reader(f, delimiter='\\t'),ncols=110)\n",
    "    for index,cols in enumerate(loop):\n",
    "        if index == 0:\n",
    "            continue\n",
    "        output_len = len(src_tokenizer.tokenize(cols[2],max_llength=512,trucate=True))\n",
    "        output_length_list[output_len-1] += 1\n",
    "        if output_len > max_output_length:\n",
    "            max_output_length = output_len\n",
    "            max_outpu_text = cols[1]\n",
    "            loop.set_postfix(max_index = index,max_output_length=max_output_length,max_output_text=max_outpu_text)\n"
   ]
  },
  {
   "cell_type": "code",
   "execution_count": null,
   "metadata": {},
   "outputs": [],
   "source": [
    "import matplotlib.pyplot as plt\n",
    "plt.bar(range(1,513), output_length_list, width=1.0)\n",
    "plt.yscale('log')\n",
    "plt.show()\n"
   ]
  },
  {
   "cell_type": "code",
   "execution_count": null,
   "metadata": {},
   "outputs": [],
   "source": [
    "path = '/home/omote/gpu-node-data01/cc12m/text_train.tsv'\n",
    "with open(path, encoding='utf-8', newline='') as f:\n",
    "    loop = tqdm(csv.reader(f, delimiter='\\t'),ncols=110)\n",
    "    for index,cols in enumerate(loop):\n",
    "        if index == 0:\n",
    "            continue\n",
    "        output_len = len(src_tokenizer.tokenize(cols[2],max_llength=512,trucate=True))\n",
    "        output_length_list[output_len-1] += 1\n",
    "        if output_len > max_output_length:\n",
    "            max_output_length = output_len\n",
    "            max_outpu_text = cols[1]\n",
    "            loop.set_postfix(max_index = index,max_output_length=max_output_length,max_output_text=max_outpu_text)\n"
   ]
  },
  {
   "cell_type": "code",
   "execution_count": null,
   "metadata": {},
   "outputs": [],
   "source": [
    "import matplotlib.pyplot as plt\n",
    "plt.bar(range(1,513), output_length_list, width=1.0)\n",
    "plt.yscale('log')\n",
    "plt.show()\n"
   ]
  },
  {
   "cell_type": "code",
   "execution_count": null,
   "metadata": {},
   "outputs": [],
   "source": [
    "path = '/home/omote/gpu-node-data01/redcaps/train.tsv'\n",
    "with open(path, encoding='utf-8', newline='') as f:\n",
    "    loop = tqdm(csv.reader(f, delimiter='\\t'),ncols=110)\n",
    "    for index,cols in enumerate(loop):\n",
    "        if index == 0:\n",
    "            continue\n",
    "        # print(cols)\n",
    "        # if index == 10:\n",
    "            \n",
    "        #     break\n",
    "        output_len = len(src_tokenizer.tokenize(cols[2],max_length=512,truncation=True))\n",
    "        output_length_list[output_len-1] += 1\n",
    "        if output_len > max_output_length:\n",
    "            max_output_length = output_len\n",
    "            max_outpu_text = cols[2]\n",
    "            loop.set_postfix(max_index = index,max_output_length=max_output_length)\n"
   ]
  },
  {
   "cell_type": "code",
   "execution_count": null,
   "metadata": {},
   "outputs": [],
   "source": [
    "import matplotlib.pyplot as plt\n",
    "plt.bar(range(1,513), output_length_list, width=1.0)\n",
    "plt.yscale('log')\n",
    "plt.show()\n"
   ]
  },
  {
   "cell_type": "code",
   "execution_count": null,
   "metadata": {},
   "outputs": [],
   "source": [
    "print(max_output_text)\n"
   ]
  },
  {
   "cell_type": "code",
   "execution_count": null,
   "metadata": {},
   "outputs": [],
   "source": [
    "import csv\n",
    "from tqdm import tqdm\n",
    "from transformers import AutoTokenizer"
   ]
  },
  {
   "cell_type": "code",
   "execution_count": null,
   "metadata": {},
   "outputs": [],
   "source": [
    "path = '/home/omote/gpu-node/grit20m/split_train_ref_exp.tsv'\n",
    "src_tokenizer = AutoTokenizer.from_pretrained(\"google/flan-t5-large\", model_max_length=512, use_fast=True)\n",
    "tgt_tokenizer = AutoTokenizer.from_pretrained(\n",
    "    \"google/flan-t5-large\",\n",
    "    model_max_length=512,\n",
    "    use_fast=True,\n",
    "    extra_ids=0,\n",
    "    additional_special_tokens=[f\"<extra_id_{i}>\" for i in range(100)]\n",
    "    + [f\"<loc_{i}>\" for i in range(1600)]\n",
    "    # + [f\"<img_{i}>\" for i in range(16384)]\n",
    "    + [f\"<add_{i}>\" for i in range(10000)]\n",
    ")\n",
    "max_input_length=-1\n",
    "max_all_length=-1\n",
    "input_length_list = [0 for i in range(512)]\n",
    "output_length_list = [0 for i in range(512)]\n",
    "all_length_list = [0 for i in range(512)]\n",
    "with open(path, encoding='utf-8', newline='') as f:\n",
    "    loop = tqdm(csv.reader(f, delimiter='\\t'),ncols=110)\n",
    "    for index,cols in enumerate(loop):\n",
    "        if index == 0:\n",
    "            continue\n",
    "        # if index == 10:\n",
    "            \n",
    "        #     break\n",
    "        input_len = len(src_tokenizer.tokenize(cols[1],max_length=512,truncation=True))\n",
    "        output_len = len(tgt_tokenizer.tokenize(cols[2],max_length=512,truncation=True))\n",
    "        all_length_list[input_len+output_len-1] += 1\n",
    "        input_length_list[input_len-1] += 1\n",
    "        output_length_list[output_len-1] += 1\n",
    "        if input_len > max_input_length:\n",
    "            max_input_length = input_len\n",
    "            max_input_text = cols[1]\n",
    "            loop.set_postfix(max_input_index = index,max_input_length=max_input_length)\n",
    "        if output_len > max_output_length:\n",
    "            max_output_length = output_len\n",
    "            max_outpu_text = cols[2]\n",
    "            loop.set_postfix(max_output_index = index,max_output_length=max_output_length)\n",
    "        if input_len+output_len > max_all_length:\n",
    "            max_all_length = input_len+output_len\n",
    "            max_all_text = cols[1]+cols[2]\n",
    "            loop.set_postfix(max_all_index = index,max_all_length=max_all_length)\n",
    "        "
   ]
  },
  {
   "cell_type": "code",
   "execution_count": null,
   "metadata": {},
   "outputs": [],
   "source": [
    "num  = 9979795*(1-0.001)\n",
    "sum_length = 0\n",
    "for index,length in enumerate(output_length_list):\n",
    "    sum_length  += length\n",
    "    if sum_length > num:\n",
    "        print(index+1)\n",
    "        break"
   ]
  },
  {
   "cell_type": "code",
   "execution_count": null,
   "metadata": {},
   "outputs": [],
   "source": [
    "path = '/home/omote/gpu-node/grit20m/split_train_ref_exp.tsv'\n",
    "tgt_tokenizer = AutoTokenizer.from_pretrained(\n",
    "    \"google/flan-t5-large\",\n",
    "    model_max_length=512,\n",
    "    use_fast=True,\n",
    "    extra_ids=0,\n",
    "    additional_special_tokens=[f\"<extra_id_{i}>\" for i in range(100)]\n",
    "    + [f\"<loc_{i}>\" for i in range(1600)]\n",
    "    # + [f\"<img_{i}>\" for i in range(16384)]\n",
    "    + [f\"<add_{i}>\" for i in range(10000)]\n",
    ")\n",
    "max_input_length=-1\n",
    "max_all_length=-1\n",
    "input_length_list = [0 for i in range(512)]\n",
    "output_length_list = [0 for i in range(512)]\n",
    "all_length_list = [0 for i in range(512)]\n",
    "with open(path, encoding='utf-8', newline='') as f:\n",
    "    loop = tqdm(csv.reader(f, delimiter='\\t'),ncols=110)\n",
    "    for index,cols in enumerate(loop):\n",
    "        if index == 0:\n",
    "            continue\n",
    "        # if index == 10:\n",
    "        print(cols)    \n",
    "        print(src_tokenizer.tokenize(cols[1],max_length=512,truncation=True))\n",
    "        print(tgt_tokenizer.tokenize(cols[2],max_length=512,truncation=True))\n",
    "        \n",
    "        break\n"
   ]
  },
  {
   "cell_type": "code",
   "execution_count": null,
   "metadata": {},
   "outputs": [],
   "source": [
    "import matplotlib.pyplot as plt\n",
    "plt.bar(range(1,513), output_length_list, width=1.0)\n",
    "plt.yscale('log')\n",
    "plt.show()\n"
   ]
  },
  {
   "cell_type": "code",
   "execution_count": null,
   "metadata": {},
   "outputs": [],
   "source": [
    "num  = 9979795*(1-0.001)\n",
    "sum_length = 0\n",
    "for index,length in enumerate(output_length_list):\n",
    "    sum_length  += length\n",
    "    if sum_length > num:\n",
    "        print(index+1)\n",
    "        break\n"
   ]
  },
  {
   "cell_type": "code",
   "execution_count": null,
   "metadata": {},
   "outputs": [],
   "source": [
    "print(sum_length)\n"
   ]
  }
 ],
 "metadata": {
  "kernelspec": {
   "display_name": "KLab_MultiModalModel-XfRlqCgI",
   "language": "python",
   "name": "python3"
  },
  "language_info": {
   "name": "python",
   "version": "3.10.10"
  }
 },
 "nbformat": 4,
 "nbformat_minor": 2
}
